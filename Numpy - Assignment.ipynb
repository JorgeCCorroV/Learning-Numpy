{
 "cells": [
  {
   "cell_type": "markdown",
   "metadata": {},
   "source": [
    "## Learn NumPy : NumPy 50 exercises and solution"
   ]
  },
  {
   "cell_type": "markdown",
   "metadata": {},
   "source": [
    "#### 1. Importing the required library"
   ]
  },
  {
   "cell_type": "code",
   "execution_count": 5,
   "metadata": {},
   "outputs": [
    {
     "name": "stdout",
     "output_type": "stream",
     "text": [
      "The numpy version installed is 1.26.2\n",
      "The pandas version installed is 2.1.4\n"
     ]
    }
   ],
   "source": [
    "\n",
    "import numpy as np\n",
    "print(f'The numpy version installed is {np.__version__}')\n",
    "\n",
    "import pandas as pd\n",
    "print(f'The pandas version installed is {pd.__version__}')\n"
   ]
  },
  {
   "cell_type": "markdown",
   "metadata": {},
   "source": [
    "#### 2. How to create a 1D array"
   ]
  },
  {
   "cell_type": "code",
   "execution_count": 7,
   "metadata": {},
   "outputs": [
    {
     "name": "stdout",
     "output_type": "stream",
     "text": [
      "[1 2 3 5]\n",
      "<class 'numpy.ndarray'>\n"
     ]
    }
   ],
   "source": [
    "\n",
    "my_list = [1, 2, 3, 5]\n",
    "my_array = np.array(my_list)\n",
    "print(my_array)\n",
    "print(type(my_array))\n"
   ]
  },
  {
   "cell_type": "markdown",
   "metadata": {},
   "source": [
    "#### 3. How to create a boolean array"
   ]
  },
  {
   "cell_type": "code",
   "execution_count": 8,
   "metadata": {},
   "outputs": [
    {
     "name": "stdout",
     "output_type": "stream",
     "text": [
      "[ True False  True False]\n",
      "<class 'numpy.ndarray'>\n"
     ]
    }
   ],
   "source": [
    "\n",
    "my_list_tf = [True, False, True, False]\n",
    "my_array_tf = np.array(my_list_tf, dtype=bool)\n",
    "print(my_array_tf)\n",
    "print(type(my_array_tf))\n"
   ]
  },
  {
   "cell_type": "markdown",
   "metadata": {},
   "source": [
    "Other solution could be:"
   ]
  },
  {
   "cell_type": "code",
   "execution_count": 10,
   "metadata": {},
   "outputs": [
    {
     "data": {
      "text/plain": [
       "array([[ True,  True,  True],\n",
       "       [ True,  True,  True],\n",
       "       [ True,  True,  True],\n",
       "       [ True,  True,  True]])"
      ]
     },
     "execution_count": 10,
     "metadata": {},
     "output_type": "execute_result"
    }
   ],
   "source": [
    "np.full((12), True, dtype=bool).reshape(4,3)"
   ]
  },
  {
   "cell_type": "markdown",
   "metadata": {},
   "source": [
    "#### 4. How to extract items that satisfy a given condition from 1D array?"
   ]
  },
  {
   "cell_type": "code",
   "execution_count": 50,
   "metadata": {},
   "outputs": [
    {
     "name": "stdout",
     "output_type": "stream",
     "text": [
      "Original array:\n",
      " [1 2 3 5]\n",
      "\n",
      "Even numbers:\n",
      " [2]\n",
      "\n",
      "Odds numbers:\n",
      " [1 3 5]\n"
     ]
    }
   ],
   "source": [
    "\n",
    "print(f'Original array:\\n {my_array}')\n",
    "\n",
    "my_array_e = my_array[my_array % 2 == 0]            \n",
    "print(f'\\nEven numbers:\\n {my_array_e}')\n",
    "\n",
    "my_array_o = my_array[my_array % 2 == 1]            \n",
    "print(f'\\nOdds numbers:\\n {my_array_o}')\n"
   ]
  },
  {
   "cell_type": "markdown",
   "metadata": {},
   "source": [
    "#### 5. How to replace items that satisfy a condition with another value in numpy array?"
   ]
  },
  {
   "cell_type": "code",
   "execution_count": 51,
   "metadata": {},
   "outputs": [
    {
     "name": "stdout",
     "output_type": "stream",
     "text": [
      "When an even number is found, it is replaced by 100:\n",
      " [100]\n",
      "\n",
      "When an odds number is found, it is replaced by 2:\n",
      " [-2 -2 -2]\n"
     ]
    }
   ],
   "source": [
    "\n",
    "my_array_e2 = my_array_e[my_array_e % 2 == 0] = 100\n",
    "print(f'When an even number is found, it is replaced by 100:\\n {my_array_e}')\n",
    "\n",
    "my_array_o2 = my_array_o[my_array_o % 2 == 1] = -2\n",
    "print(f'\\nWhen an odds number is found, it is replaced by -2:\\n {my_array_o}')\n",
    "\n"
   ]
  },
  {
   "cell_type": "markdown",
   "metadata": {},
   "source": [
    "An easier solution could be"
   ]
  },
  {
   "cell_type": "code",
   "execution_count": 44,
   "metadata": {},
   "outputs": [
    {
     "data": {
      "text/plain": [
       "array([   0, -100,    2, -100,    4, -100,    6, -100,    8, -100])"
      ]
     },
     "execution_count": 44,
     "metadata": {},
     "output_type": "execute_result"
    }
   ],
   "source": [
    "arr = np.arange(10)\n",
    "\n",
    "arr[arr%2 == 1] = -100\n",
    "arr"
   ]
  },
  {
   "cell_type": "markdown",
   "metadata": {},
   "source": [
    "#### 6. How to replace items that satisfy a condition without affecting the original array?"
   ]
  },
  {
   "cell_type": "code",
   "execution_count": 52,
   "metadata": {},
   "outputs": [
    {
     "name": "stdout",
     "output_type": "stream",
     "text": [
      "Original: [1 2 3 5]\n",
      "Modified: [2]\n"
     ]
    }
   ],
   "source": [
    "\n",
    "my_list = [1, 2, 3, 5]\n",
    "my_array = np.array(my_list)\n",
    "\n",
    "my_array_e3 = my_array.copy()\n",
    "\n",
    "my_array_e3 = my_array_e3[my_array_e3 % 2 == 0]             # even numbers\n",
    "print(f'Original: {my_array}')\n",
    "print(f'Modified: {my_array_e3}')\n",
    "\n"
   ]
  },
  {
   "cell_type": "markdown",
   "metadata": {},
   "source": [
    "#### 7. How to reshape an array?\n",
    "Where (rows, cols)"
   ]
  },
  {
   "cell_type": "code",
   "execution_count": 60,
   "metadata": {},
   "outputs": [
    {
     "name": "stdout",
     "output_type": "stream",
     "text": [
      "First array:\n",
      " [[1 2]\n",
      " [3 5]]\n",
      "\n",
      "Reshaped array:\n",
      " [[1]\n",
      " [2]\n",
      " [3]\n",
      " [5]]\n"
     ]
    }
   ],
   "source": [
    "\n",
    "c = my_array.reshape(2,2)                    \n",
    "c1 = my_array.reshape(len(my_array),-1)      # -1 means that the cols are selected automatically\n",
    "\n",
    "print(f'First array:\\n {c}')\n",
    "print(f'\\nReshaped array:\\n {c1}')\n"
   ]
  },
  {
   "cell_type": "markdown",
   "metadata": {},
   "source": [
    "#### 8. How to stack two arrays vertically?"
   ]
  },
  {
   "cell_type": "code",
   "execution_count": 54,
   "metadata": {},
   "outputs": [
    {
     "name": "stdout",
     "output_type": "stream",
     "text": [
      "[[2 3]\n",
      " [4 6]]\n"
     ]
    },
    {
     "data": {
      "text/plain": [
       "array([[1, 2],\n",
       "       [3, 5],\n",
       "       [2, 3],\n",
       "       [4, 6]])"
      ]
     },
     "execution_count": 54,
     "metadata": {},
     "output_type": "execute_result"
    }
   ],
   "source": [
    "# Using (n, -1)\n",
    "\n",
    "d = c1.copy() + 1\n",
    "e = d.reshape(2,-1)\n",
    "print(e)\n",
    "\n",
    "f = np.vstack([c, e])\n",
    "f"
   ]
  },
  {
   "cell_type": "markdown",
   "metadata": {},
   "source": [
    "#### 9. How to stack two arrays horizontally?"
   ]
  },
  {
   "cell_type": "code",
   "execution_count": 61,
   "metadata": {},
   "outputs": [
    {
     "name": "stdout",
     "output_type": "stream",
     "text": [
      "[[2 3 4 6]]\n",
      "[[1 2 3 5]]\n"
     ]
    },
    {
     "data": {
      "text/plain": [
       "array([[2, 3, 4, 6, 1, 2, 3, 5]])"
      ]
     },
     "execution_count": 61,
     "metadata": {},
     "output_type": "execute_result"
    }
   ],
   "source": [
    "\n",
    "c2 = c1 + 1\n",
    "c2 = c2.reshape(1,len(c2))\n",
    "print(c2)\n",
    "\n",
    "c1 = c1.reshape(1,len(c1))\n",
    "print(c1)\n",
    "\n",
    "g = np.hstack([c2, c1])\n",
    "g"
   ]
  },
  {
   "cell_type": "markdown",
   "metadata": {},
   "source": [
    "#### 10. How to generate custom sequences in numpy without hardcoding?"
   ]
  },
  {
   "cell_type": "code",
   "execution_count": 68,
   "metadata": {},
   "outputs": [
    {
     "name": "stdout",
     "output_type": "stream",
     "text": [
      "[1 1 2 2 3 3]\n",
      "[1 2 3 1 2 3]\n"
     ]
    }
   ],
   "source": [
    "\n",
    "h = np.arange(1,4)\n",
    "h1 = np.r_[np.repeat(h, 2)]\n",
    "print(h1)\n",
    "\n",
    "h2 = np.r_[np.tile(h, 2)]\n",
    "print(h2)\n"
   ]
  },
  {
   "cell_type": "markdown",
   "metadata": {},
   "source": [
    "#### 11. How to get the common items between two python numpy arrays?"
   ]
  },
  {
   "cell_type": "code",
   "execution_count": 69,
   "metadata": {},
   "outputs": [
    {
     "name": "stdout",
     "output_type": "stream",
     "text": [
      "\n",
      "Originals: \n",
      "[1 2 3 5] and [1 2 3 1 2 3]\n",
      "\n",
      " The common items are: \n",
      "[1 2 3]\n"
     ]
    }
   ],
   "source": [
    "\n",
    "print(f'\\nOriginals: \\n{my_array} and {h2}')\n",
    "\n",
    "i = np.intersect1d(my_array, h2)\n",
    "print(f'\\n The common items are: \\n{i}')\n"
   ]
  },
  {
   "cell_type": "markdown",
   "metadata": {},
   "source": [
    "#### 12. How to remove from one array those items that exist in another?"
   ]
  },
  {
   "cell_type": "code",
   "execution_count": 70,
   "metadata": {},
   "outputs": [
    {
     "data": {
      "text/plain": [
       "array([5])"
      ]
     },
     "execution_count": 70,
     "metadata": {},
     "output_type": "execute_result"
    }
   ],
   "source": [
    "\n",
    "j = np.setdiff1d(my_array, h2)\n",
    "j\n"
   ]
  },
  {
   "cell_type": "markdown",
   "metadata": {},
   "source": [
    "#### 13. How to get the positions where elements of two arrays match?"
   ]
  },
  {
   "cell_type": "code",
   "execution_count": 71,
   "metadata": {},
   "outputs": [
    {
     "data": {
      "text/plain": [
       "(array([0, 5]),)"
      ]
     },
     "execution_count": 71,
     "metadata": {},
     "output_type": "execute_result"
    }
   ],
   "source": [
    "\n",
    "k = np.where(h1 == h2)\n",
    "k\n"
   ]
  },
  {
   "cell_type": "markdown",
   "metadata": {},
   "source": [
    "#### 14. How to extract all numbers between a given range from a numpy array?\n",
    "We can put filters inside an array using the input() function"
   ]
  },
  {
   "cell_type": "code",
   "execution_count": 72,
   "metadata": {},
   "outputs": [
    {
     "name": "stdout",
     "output_type": "stream",
     "text": [
      "[1 2 3 1 2 3]\n"
     ]
    },
    {
     "data": {
      "text/plain": [
       "array([1, 2, 3, 1, 2, 3])"
      ]
     },
     "execution_count": 72,
     "metadata": {},
     "output_type": "execute_result"
    }
   ],
   "source": [
    "\n",
    "print(h2)\n",
    "h3 = h2[(h2 >= int(input('Enter a number between 0 and 5: ')))]           \n",
    "h3\n"
   ]
  },
  {
   "cell_type": "markdown",
   "metadata": {},
   "source": [
    "#### 15. How to make a python function that handles scalars to work on numpy arrays?"
   ]
  },
  {
   "cell_type": "code",
   "execution_count": 73,
   "metadata": {},
   "outputs": [
    {
     "name": "stdout",
     "output_type": "stream",
     "text": [
      "[1 2 3 5]\n",
      "Scalar result: 20\n",
      "Array result: [ 2  4  6 10]\n"
     ]
    }
   ],
   "source": [
    "\n",
    "print(my_array)\n",
    "\n",
    "def my_function(x):\n",
    "    if isinstance(x, (int, float)):  # Check if x is a scalar\n",
    "        # Handle the scalar case\n",
    "        result = x * 2  # Replace with your scalar operation\n",
    "    else:\n",
    "        result = x * 2  # Replace with your array operation\n",
    "    return result\n",
    "\n",
    "# Example usage\n",
    "scalar = my_function(10)\n",
    "print(\"Scalar result:\", scalar)\n",
    "\n",
    "l = my_function(my_array)\n",
    "print(\"Array result:\", l)\n"
   ]
  },
  {
   "cell_type": "markdown",
   "metadata": {},
   "source": [
    "#### 16. How to swap two columns in a 2d numpy array?"
   ]
  },
  {
   "cell_type": "code",
   "execution_count": 74,
   "metadata": {},
   "outputs": [
    {
     "name": "stdout",
     "output_type": "stream",
     "text": [
      "\n",
      "Original: \n",
      "[[ 1  2  3  5]\n",
      " [ 2  4  6 10]]\n",
      "\n",
      "Changed: \n",
      "[[ 2  1  3  5]\n",
      " [ 4  2  6 10]]\n",
      "\n",
      "Alternative: \n",
      "[[ 2  1  3  5]\n",
      " [ 4  2  6 10]]\n"
     ]
    }
   ],
   "source": [
    "\n",
    "m = np.vstack([my_array, l])\n",
    "# m.reshape(4,2)\n",
    "print(f'\\nOriginal: \\n{m}')\n",
    "\n",
    "m1 = m[:,[1,0,2,3]]\n",
    "print(f'\\nChanged: \\n{m1}')\n",
    "\n",
    "# something more general could be:\n",
    "m[:, [0, 1]] = m[:, [1, 0]]\n",
    "print(f'\\nAlternative: \\n{m}')\n"
   ]
  },
  {
   "cell_type": "markdown",
   "metadata": {},
   "source": [
    "#### 17. How to swap two rows in a 2d numpy array?"
   ]
  },
  {
   "cell_type": "code",
   "execution_count": 76,
   "metadata": {},
   "outputs": [
    {
     "name": "stdout",
     "output_type": "stream",
     "text": [
      "\n",
      "Original: \n",
      "[[ 1  2  3  5]\n",
      " [ 2  4  6 10]\n",
      " [ 2  3  4  6]]\n",
      "\n",
      "Changed: \n",
      "[[ 2  4  6 10]\n",
      " [ 1  2  3  5]\n",
      " [ 2  3  4  6]]\n",
      "\n",
      "Alternative: \n",
      "[[ 2  4  6 10]\n",
      " [ 1  2  3  5]\n",
      " [ 2  3  4  6]]\n"
     ]
    }
   ],
   "source": [
    "\n",
    "n = np.vstack([my_array, l, c1.reshape(1,4)+1])\n",
    "print(f'\\nOriginal: \\n{n}')\n",
    "\n",
    "n1 = n[[1,0,2],:]\n",
    "print(f'\\nChanged: \\n{n1}')\n",
    "\n",
    "n[[0, 1],:] = n[[1, 0], :]\n",
    "print(f'\\nAlternative: \\n{n}')\n"
   ]
  },
  {
   "cell_type": "markdown",
   "metadata": {},
   "source": [
    "#### 18. How to reverse the rows of a 2D array?"
   ]
  },
  {
   "cell_type": "code",
   "execution_count": 77,
   "metadata": {},
   "outputs": [
    {
     "name": "stdout",
     "output_type": "stream",
     "text": [
      "\n",
      "Original: \n",
      "[[ 2  4  6 10]\n",
      " [ 1  2  3  5]\n",
      " [ 2  3  4  6]]\n",
      "\n",
      "Changed: \n",
      "[[ 2  3  4  6]\n",
      " [ 1  2  3  5]\n",
      " [ 2  4  6 10]]\n",
      "\n",
      "Alternative: \n",
      "[[ 2  3  4  6]\n",
      " [ 1  2  3  5]\n",
      " [ 2  4  6 10]]\n"
     ]
    }
   ],
   "source": [
    "\n",
    "print(f'\\nOriginal: \\n{n}')\n",
    "\n",
    "n2 = n[::-1]\n",
    "print(f'\\nChanged: \\n{n2}')\n",
    "\n",
    "n3 = n[::-1, :]\n",
    "print(f'\\nAlternative: \\n{n3}')\n"
   ]
  },
  {
   "cell_type": "markdown",
   "metadata": {},
   "source": [
    "#### 19. How to reverse the columns of a 2D array?"
   ]
  },
  {
   "cell_type": "code",
   "execution_count": 80,
   "metadata": {},
   "outputs": [
    {
     "name": "stdout",
     "output_type": "stream",
     "text": [
      "\n",
      "Original: \n",
      "[[ 2  3  4  6]\n",
      " [ 1  2  3  5]\n",
      " [ 2  4  6 10]]\n",
      "\n",
      "Alternative: \n",
      "[[ 6  4  3  2]\n",
      " [ 5  3  2  1]\n",
      " [10  6  4  2]]\n"
     ]
    }
   ],
   "source": [
    "\n",
    "print(f'\\nOriginal: \\n{n3}')\n",
    "\n",
    "n4 = n3[:, ::-1]\n",
    "print(f'\\nAlternative: \\n{n4}')\n"
   ]
  },
  {
   "cell_type": "markdown",
   "metadata": {},
   "source": [
    "#### 20. How to create a 2D array containing random floats between 5 and 10?"
   ]
  },
  {
   "cell_type": "code",
   "execution_count": 81,
   "metadata": {},
   "outputs": [
    {
     "data": {
      "text/plain": [
       "array([[6.0614789 , 9.45322213, 6.53701531, 5.13672388],\n",
       "       [9.77308719, 9.63267154, 9.85913296, 8.40178704],\n",
       "       [7.69636218, 6.23678788, 8.97832738, 8.98179569],\n",
       "       [7.82119951, 6.70914693, 5.28234409, 5.82739486],\n",
       "       [6.14758361, 9.92473394, 9.19849555, 5.45567564]])"
      ]
     },
     "execution_count": 81,
     "metadata": {},
     "output_type": "execute_result"
    }
   ],
   "source": [
    "\n",
    "x, y = 5, 4\n",
    "\n",
    "o = np.random.uniform(5, 10, size = (x, y))\n",
    "o\n"
   ]
  },
  {
   "cell_type": "markdown",
   "metadata": {},
   "source": [
    "#### 21. How to print only 3 decimal places in python numpy array?"
   ]
  },
  {
   "cell_type": "code",
   "execution_count": 82,
   "metadata": {},
   "outputs": [
    {
     "data": {
      "text/plain": [
       "array([[6.061, 9.453, 6.537, 5.137],\n",
       "       [9.773, 9.633, 9.859, 8.402],\n",
       "       [7.696, 6.237, 8.978, 8.982],\n",
       "       [7.821, 6.709, 5.282, 5.827],\n",
       "       [6.148, 9.925, 9.198, 5.456]])"
      ]
     },
     "execution_count": 82,
     "metadata": {},
     "output_type": "execute_result"
    }
   ],
   "source": [
    "\n",
    "np.set_printoptions(3)\n",
    "o\n"
   ]
  },
  {
   "cell_type": "markdown",
   "metadata": {},
   "source": [
    "#### 22. How to pretty print a numpy array by suppressing the scientific notation (like 1e10)?"
   ]
  },
  {
   "cell_type": "code",
   "execution_count": 83,
   "metadata": {},
   "outputs": [
    {
     "name": "stdout",
     "output_type": "stream",
     "text": [
      "\n",
      "[[0.011 0.012 0.003 0.002 0.001]\n",
      " [0.007 0.003 0.01  0.004 0.001]\n",
      " [0.007 0.017 0.002 0.014 0.008]\n",
      " [0.    0.005 0.015 0.015 0.002]\n",
      " [0.001 0.005 0.012 0.001 0.007]]\n",
      "\n",
      "[[0.011 0.012 0.003 0.002 0.001]\n",
      " [0.007 0.003 0.010 0.004 0.001]\n",
      " [0.007 0.017 0.002 0.014 0.008]\n",
      " [0.000 0.005 0.015 0.015 0.002]\n",
      " [0.001 0.005 0.012 0.001 0.007]]\n"
     ]
    }
   ],
   "source": [
    "\n",
    "x, y = 5,5\n",
    "p = np.random.uniform(0, 0.1, size = (x, y))/6\n",
    "np.set_printoptions(suppress=False)\n",
    "print(f'\\n{p}')\n",
    "\n",
    "np.set_printoptions(suppress=True, formatter={'float': lambda x: f'{x:.3f}'})\n",
    "print(f'\\n{p}')\n"
   ]
  },
  {
   "cell_type": "markdown",
   "metadata": {},
   "source": [
    "#### 23. How to limit the number of items printed in output of numpy array?"
   ]
  },
  {
   "cell_type": "code",
   "execution_count": 84,
   "metadata": {},
   "outputs": [
    {
     "data": {
      "text/plain": [
       "array([ 0,  1,  2, ..., 97, 98, 99])"
      ]
     },
     "execution_count": 84,
     "metadata": {},
     "output_type": "execute_result"
    }
   ],
   "source": [
    "\n",
    "q = np.arange(100)\n",
    "np.set_printoptions(threshold=6)\n",
    "# print(f'\\n{q}')\n",
    "q\n"
   ]
  },
  {
   "cell_type": "markdown",
   "metadata": {},
   "source": [
    "#### 24. How to print the full numpy array without truncating"
   ]
  },
  {
   "cell_type": "code",
   "execution_count": 87,
   "metadata": {},
   "outputs": [
    {
     "data": {
      "text/plain": [
       "array([ 0,  1,  2,  3,  4,  5,  6,  7,  8,  9, 10, 11, 12, 13, 14, 15, 16,\n",
       "       17, 18, 19, 20, 21, 22, 23, 24, 25, 26, 27, 28, 29, 30, 31, 32, 33,\n",
       "       34, 35, 36, 37, 38, 39, 40, 41, 42, 43, 44, 45, 46, 47, 48, 49, 50,\n",
       "       51, 52, 53, 54, 55, 56, 57, 58, 59, 60, 61, 62, 63, 64, 65, 66, 67,\n",
       "       68, 69, 70, 71, 72, 73, 74, 75, 76, 77, 78, 79, 80, 81, 82, 83, 84,\n",
       "       85, 86, 87, 88, 89, 90, 91, 92, 93, 94, 95, 96, 97, 98, 99])"
      ]
     },
     "execution_count": 87,
     "metadata": {},
     "output_type": "execute_result"
    }
   ],
   "source": [
    "\n",
    "r = np.arange(100)\n",
    "# np.set_printoptions(threshold=100)\n",
    "r\n"
   ]
  },
  {
   "cell_type": "markdown",
   "metadata": {},
   "source": [
    "#### 25. How to import a dataset with numbers and texts keeping the text intact in python numpy?\n",
    "\n",
    "Define the data types for each column (integer (int) for the first column, str for the second)"
   ]
  },
  {
   "cell_type": "code",
   "execution_count": 88,
   "metadata": {
    "scrolled": true
   },
   "outputs": [
    {
     "data": {
      "text/plain": [
       "array([(b'1', b'5.1', b'3.5', b'1.4', b'0.2', b'Iris-setosa'),\n",
       "       (b'2', b'4.9', b'3.0', b'1.4', b'0.2', b'Iris-setosa'),\n",
       "       (b'3', b'4.7', b'3.2', b'1.3', b'0.2', b'Iris-setosa'), ...,\n",
       "       (b'148', b'6.5', b'3.0', b'5.2', b'2.0', b'Iris-virginica'),\n",
       "       (b'149', b'6.2', b'3.4', b'5.4', b'2.3', b'Iris-virginica'),\n",
       "       (b'150', b'5.9', b'3.0', b'5.1', b'1.8', b'Iris-virginica')],\n",
       "      dtype=[('Id', 'O'), ('SepalLengthCm', 'O'), ('SepalWidthCm', 'O'), ('PetalLengthCm', 'O'), ('PetalWidthCm', 'O'), ('Species', 'O')])"
      ]
     },
     "execution_count": 88,
     "metadata": {},
     "output_type": "execute_result"
    }
   ],
   "source": [
    "\n",
    "file_path = 'iris.csv'\n",
    "delimiter = ','\n",
    "\n",
    "dtype = object\n",
    "data = np.genfromtxt(file_path, delimiter=delimiter, dtype=dtype, names=True, skip_header=0)\n",
    "data\n"
   ]
  },
  {
   "cell_type": "markdown",
   "metadata": {},
   "source": [
    "#### 26. How to extract a particular column from 1D array of tuples?"
   ]
  },
  {
   "cell_type": "code",
   "execution_count": 89,
   "metadata": {},
   "outputs": [
    {
     "data": {
      "text/plain": [
       "array([b'Iris-setosa', b'Iris-setosa', b'Iris-setosa', ...,\n",
       "       b'Iris-virginica', b'Iris-virginica', b'Iris-virginica'],\n",
       "      dtype=object)"
      ]
     },
     "execution_count": 89,
     "metadata": {},
     "output_type": "execute_result"
    }
   ],
   "source": [
    "\n",
    "data01 = np.genfromtxt(file_path, delimiter=delimiter, skip_header=1, \n",
    "                          usecols = [-1], dtype = object)\n",
    "data01\n"
   ]
  },
  {
   "cell_type": "markdown",
   "metadata": {},
   "source": [
    "#### 27. How to convert a 1d array of tuples to a 2d numpy array?"
   ]
  },
  {
   "cell_type": "code",
   "execution_count": 90,
   "metadata": {},
   "outputs": [
    {
     "data": {
      "text/plain": [
       "array([[5.1, 3.5, 1.4],\n",
       "       [4.9, 3. , 1.4],\n",
       "       [4.7, 3.2, 1.3],\n",
       "       ...,\n",
       "       [6.5, 3. , 5.2],\n",
       "       [6.2, 3.4, 5.4],\n",
       "       [5.9, 3. , 5.1]])"
      ]
     },
     "execution_count": 90,
     "metadata": {},
     "output_type": "execute_result"
    }
   ],
   "source": [
    "\n",
    "iris2D = np.genfromtxt(file_path, delimiter=delimiter, skip_header=1, dtype='float', usecols=[1,2,3])\n",
    "iris2D\n"
   ]
  },
  {
   "cell_type": "markdown",
   "metadata": {},
   "source": [
    "#### 28. How to compute the mean, median, standard deviation of a numpy array?\n",
    "If we write irisD[:,1], then it calculates all rows of column 2"
   ]
  },
  {
   "cell_type": "code",
   "execution_count": 91,
   "metadata": {},
   "outputs": [
    {
     "data": {
      "text/html": [
       "<div>\n",
       "<style scoped>\n",
       "    .dataframe tbody tr th:only-of-type {\n",
       "        vertical-align: middle;\n",
       "    }\n",
       "\n",
       "    .dataframe tbody tr th {\n",
       "        vertical-align: top;\n",
       "    }\n",
       "\n",
       "    .dataframe thead th {\n",
       "        text-align: right;\n",
       "    }\n",
       "</style>\n",
       "<table border=\"1\" class=\"dataframe\">\n",
       "  <thead>\n",
       "    <tr style=\"text-align: right;\">\n",
       "      <th></th>\n",
       "      <th>Mean</th>\n",
       "      <th>Median</th>\n",
       "      <th>Standard Deviation</th>\n",
       "    </tr>\n",
       "  </thead>\n",
       "  <tbody>\n",
       "    <tr>\n",
       "      <th>0</th>\n",
       "      <td>3.05</td>\n",
       "      <td>3.0</td>\n",
       "      <td>0.43</td>\n",
       "    </tr>\n",
       "  </tbody>\n",
       "</table>\n",
       "</div>"
      ],
      "text/plain": [
       "   Mean  Median  Standard Deviation\n",
       "0  3.05     3.0                0.43"
      ]
     },
     "execution_count": 91,
     "metadata": {},
     "output_type": "execute_result"
    }
   ],
   "source": [
    "\n",
    "mean2D = iris2D[:,1].mean().round(2)\n",
    "median2D = np.median(iris2D[:,1]).round(2)\n",
    "std2D = iris2D[:,1].std().round(2)\n",
    "\n",
    "# we imported pandas to build a table as resume\n",
    "table = pd.DataFrame({'Mean': [mean2D], 'Median': [median2D], 'Standard Deviation': [std2D]})\n",
    "table\n"
   ]
  },
  {
   "cell_type": "markdown",
   "metadata": {},
   "source": [
    "#### 29. How to normalize an array, so the values range exactly between 0 and 1?\n",
    "We must use the data normalization formula (X- Xmin) / (Xmax - Xmin)"
   ]
  },
  {
   "cell_type": "code",
   "execution_count": 92,
   "metadata": {},
   "outputs": [
    {
     "data": {
      "text/plain": [
       "array([0.625, 0.417, 0.5  , ..., 0.417, 0.583, 0.417])"
      ]
     },
     "execution_count": 92,
     "metadata": {},
     "output_type": "execute_result"
    }
   ],
   "source": [
    "\n",
    "irisNor = (iris2D[:,1] - np.min(iris2D[:,1])) / (np.max(iris2D[:,1]) - np.min(iris2D[:,1]))\n",
    "irisNor\n"
   ]
  },
  {
   "cell_type": "markdown",
   "metadata": {},
   "source": [
    "#### 30. How to compute the softmax score?\n",
    "\n",
    "The softmax function is commonly used in machine learning and deep learning to compute a probability distribution over multiple classes.\n",
    "\n",
    "It takes as input a vector of raw scores or logits and transforms them into a probability distribution where each score is converted to a probability value between 0 and 1.\n",
    "\n",
    "The probabilities are normalized so that they sum to 1:\n",
    "\n",
    "e^z / sum(e^z)"
   ]
  },
  {
   "cell_type": "code",
   "execution_count": 97,
   "metadata": {},
   "outputs": [
    {
     "data": {
      "text/plain": [
       "1.0"
      ]
     },
     "execution_count": 97,
     "metadata": {},
     "output_type": "execute_result"
    }
   ],
   "source": [
    "\n",
    "smax = np.exp(iris2D[:,1])/sum(np.exp(iris2D[:,1]))\n",
    "smax.sum().round(5)\n"
   ]
  },
  {
   "cell_type": "markdown",
   "metadata": {},
   "source": [
    "Applying as a function"
   ]
  },
  {
   "cell_type": "code",
   "execution_count": 95,
   "metadata": {},
   "outputs": [
    {
     "name": "stdout",
     "output_type": "stream",
     "text": [
      "The Maximum Softmax Probability: 1.0\n"
     ]
    }
   ],
   "source": [
    "\n",
    "def softmax(z):\n",
    "    probability = np.exp(z) / sum(np.exp(z))\n",
    "    return probability\n",
    "\n",
    "softProb = softmax(iris2D[:,1])\n",
    "print(f'The Maximum Softmax Probability: {softProb.sum().round(5)}')\n"
   ]
  },
  {
   "cell_type": "markdown",
   "metadata": {},
   "source": [
    "#### 31. How to find the percentile scores of a numpy array?"
   ]
  },
  {
   "cell_type": "code",
   "execution_count": 98,
   "metadata": {},
   "outputs": [
    {
     "data": {
      "text/plain": [
       "array([5.1, 5.8, 6.4])"
      ]
     },
     "execution_count": 98,
     "metadata": {},
     "output_type": "execute_result"
    }
   ],
   "source": [
    "\n",
    "s_array = np.genfromtxt(file_path, delimiter=delimiter, skip_header=1, dtype='float', usecols=[1])\n",
    "s = np.percentile(s_array, [25, 50, 75])                    # percentile 25, 50 and 75\n",
    "s\n"
   ]
  },
  {
   "cell_type": "markdown",
   "metadata": {},
   "source": [
    "#### 32. How to insert values at random positions in an array?"
   ]
  },
  {
   "cell_type": "code",
   "execution_count": 99,
   "metadata": {},
   "outputs": [
    {
     "name": "stdout",
     "output_type": "stream",
     "text": [
      "\n",
      "Original array: \n",
      "[0 1 2 3 4 5 6 7 8 9]\n",
      "\n",
      "The indices for insertion is: \n",
      "[7 0 8]\n",
      "\n",
      "The values for insertion: \n",
      "[16 11 15]\n",
      "\n",
      "Array after insertion: \n",
      "[11  0  1  2  3  4  5  6 16  7 15  8  9]\n"
     ]
    }
   ],
   "source": [
    "\n",
    "t_array = np.arange(10)\n",
    "print(f'\\nOriginal array: \\n{t_array}')\n",
    "\n",
    "t_ind = np.random.choice(t_array.size, size=3, replace=False)                   # Generate 3 random indices for insertion\n",
    "print(f'\\nThe indices for insertion is: \\n{t_ind}')\n",
    "\n",
    "t_values = np.random.randint(10, 20, size=3)                                    # Generate 3 random values for insertion\n",
    "print(f'\\nThe values for insertion: \\n{t_values}')\n",
    "\n",
    "t_array = np.insert(t_array, t_ind, t_values)                                   # Insert the values at the indices\n",
    "print(f'\\nArray after insertion: \\n{t_array}')"
   ]
  },
  {
   "cell_type": "markdown",
   "metadata": {},
   "source": [
    "#### 33. How to find the position of missing values in numpy array?"
   ]
  },
  {
   "cell_type": "code",
   "execution_count": 101,
   "metadata": {},
   "outputs": [
    {
     "name": "stdout",
     "output_type": "stream",
     "text": [
      "\n",
      "Positions which values are nulls in: \n",
      "(array([  0,   2,   3, ..., 489, 490, 499]),)\n"
     ]
    }
   ],
   "source": [
    "\n",
    "iris2D_ind = np.random.choice(iris2D.size, size=50)                     # Generate 50 random indices for insertion\n",
    "iris2D_values = iris2D[np.random.randint(len(iris2D), size=50),np.random.randint(3,size=50)] = np.nan    # Generate 50 random values for insertion\n",
    "iris2D_array = np.insert(iris2D, iris2D_ind, iris2D_values)             # Insert the values at the indices\n",
    "\n",
    "nan_positions = np.where(np.isnan(iris2D_array))\n",
    "print(f'\\nPositions which values are nulls in: \\n{nan_positions}')\n"
   ]
  },
  {
   "cell_type": "markdown",
   "metadata": {},
   "source": [
    "#### 34. How to filter a numpy array based on two or more conditions?"
   ]
  },
  {
   "cell_type": "code",
   "execution_count": 102,
   "metadata": {},
   "outputs": [
    {
     "data": {
      "text/plain": [
       "array([4.9, 4.7, 4.6, ..., 6.2, 5.4, 5.9])"
      ]
     },
     "execution_count": 102,
     "metadata": {},
     "output_type": "execute_result"
    }
   ],
   "source": [
    "\n",
    "filter_iris2D = iris2D[((iris2D > 4) & (iris2D < 7)) & (iris2D != 'nan')]\n",
    "filter_iris2D\n"
   ]
  },
  {
   "cell_type": "markdown",
   "metadata": {},
   "source": [
    "#### 35. How to drop rows that contain a missing value from a numpy array?"
   ]
  },
  {
   "cell_type": "code",
   "execution_count": 103,
   "metadata": {},
   "outputs": [
    {
     "data": {
      "text/plain": [
       "array([[1., 2.],\n",
       "       [5., 6.]])"
      ]
     },
     "execution_count": 103,
     "metadata": {},
     "output_type": "execute_result"
    }
   ],
   "source": [
    "\n",
    "u = np.array([[1, 2], \n",
    "               [np.nan, 4], \n",
    "               [5, 6]])\n",
    "\n",
    "u = u[~np.isnan(u).any(axis=1)]\n",
    "u\n"
   ]
  },
  {
   "cell_type": "markdown",
   "metadata": {},
   "source": [
    "#### 36. How to find the correlation between two columns of a numpy array?\n",
    "As 27: convert a 1d array of tuples to a 2d numpy array\n"
   ]
  },
  {
   "cell_type": "code",
   "execution_count": 104,
   "metadata": {},
   "outputs": [
    {
     "data": {
      "text/plain": [
       "0.7166762728538999"
      ]
     },
     "execution_count": 104,
     "metadata": {},
     "output_type": "execute_result"
    }
   ],
   "source": [
    "\n",
    "iris2D_x = np.genfromtxt(file_path, delimiter=delimiter, skip_header=1, dtype='float', usecols=[0,1,2,3])\n",
    "\n",
    "x = np.corrcoef(iris2D_x[:,0], iris2D_x[:,1])\n",
    "x[0,1]\n"
   ]
  },
  {
   "cell_type": "markdown",
   "metadata": {},
   "source": [
    "#### 37. How to find is a given array has any null values?"
   ]
  },
  {
   "cell_type": "code",
   "execution_count": 106,
   "metadata": {},
   "outputs": [
    {
     "data": {
      "text/plain": [
       "True"
      ]
     },
     "execution_count": 106,
     "metadata": {},
     "output_type": "execute_result"
    }
   ],
   "source": [
    "\n",
    "np.isnan(iris2D).any()\n"
   ]
  },
  {
   "cell_type": "markdown",
   "metadata": {},
   "source": [
    "#### 38. How to replace all missing values with 0 in a numpy array?"
   ]
  },
  {
   "cell_type": "code",
   "execution_count": 107,
   "metadata": {},
   "outputs": [
    {
     "data": {
      "text/plain": [
       "array([[0. , 3.5, 0. ],\n",
       "       [4.9, 3. , 1.4],\n",
       "       [4.7, 3.2, 0. ],\n",
       "       ...,\n",
       "       [6.5, 3. , 5.2],\n",
       "       [6.2, 3.4, 5.4],\n",
       "       [5.9, 3. , 0. ]])"
      ]
     },
     "execution_count": 107,
     "metadata": {},
     "output_type": "execute_result"
    }
   ],
   "source": [
    "\n",
    "iris2D[np.isnan(iris2D)] = 0\n",
    "iris2D\n"
   ]
  },
  {
   "cell_type": "markdown",
   "metadata": {},
   "source": [
    "#### 39. How to find the count of unique values in a numpay array?"
   ]
  },
  {
   "cell_type": "code",
   "execution_count": 109,
   "metadata": {},
   "outputs": [
    {
     "data": {
      "text/plain": [
       "(array([0, 1, 2, 3, 4, 5]), array([1, 2, 1, 2, 1, 3]))"
      ]
     },
     "execution_count": 109,
     "metadata": {},
     "output_type": "execute_result"
    }
   ],
   "source": [
    "\n",
    "y_list = [1, 2, 3, 5, 5, 4, 5, 3, 0, 1]\n",
    "y = np.array(y_list)\n",
    "np.unique(y, return_counts=True)\n"
   ]
  },
  {
   "cell_type": "markdown",
   "metadata": {},
   "source": [
    "#### 40. How to convert a numerical to a categorical (text) array?\n",
    "np.digitize() assigns an index to each data point based on the bin boundaries specified in bins"
   ]
  },
  {
   "cell_type": "code",
   "execution_count": 110,
   "metadata": {},
   "outputs": [
    {
     "name": "stdout",
     "output_type": "stream",
     "text": [
      "[3 2 2 ... 3 3 3]\n",
      "['large', 'medium', 'medium', 'medium', 'large', 'large', 'medium', 'large', 'medium', 'medium', 'large', 'medium', 'medium', 'medium', 'large', 'large', 'large', 'large', 'large', 'large', 'large', 'large', 'medium', 'large', 'medium', 'large', 'large', 'large', 'large', 'medium', 'medium', 'large', 'large', 'large', 'medium', 'large', 'large', 'medium', 'medium', 'large', 'large', 'medium', 'medium', 'large', 'large', 'medium', 'large', 'medium', 'large', 'large', 'large', 'large', 'large', 'large', 'large', 'large', 'large', 'medium', 'large', 'large', 'large', 'large', 'large', 'large', 'large', 'large', 'large', 'large', 'large', 'large', 'large', 'large', 'large', 'large', 'large', 'large', 'large', 'large', 'large', 'large', 'large', 'large', 'large', 'large', 'large', 'large', 'large', 'large', 'large', 'large', 'large', 'large', 'large', 'large', 'large', 'large', 'large', 'large', 'large', 'large', 'large', 'large', 'large', 'large', 'large', 'large', 'medium', 'large', 'large', 'large', 'large', 'large', 'large', 'large', 'large', 'large', 'large', 'large', 'large', 'large', 'large', 'large', 'large', 'large', 'large', 'large', 'large', 'large', 'large', 'large', 'large', 'large', 'large', 'large', 'large', 'large', 'large', 'large', 'large', 'large', 'large', 'large', 'large', 'large', 'large', 'large', 'large', 'large', 'large', 'large']\n"
     ]
    }
   ],
   "source": [
    "bins = np.array([0, 3, 5])                             # It specifies the bin boundaries for the numerical data\n",
    "inds = np.digitize(s_array.astype('float'), bins)\n",
    "\n",
    "labels = {1:'small', 2: 'medium', 3:'large'}\n",
    "iris_cat_data = [labels[x] for x in inds]\n",
    "\n",
    "print(inds)\n",
    "print(iris_cat_data)"
   ]
  },
  {
   "cell_type": "markdown",
   "metadata": {},
   "source": [
    "Other way of resolve it:"
   ]
  },
  {
   "cell_type": "code",
   "execution_count": 111,
   "metadata": {},
   "outputs": [
    {
     "name": "stdout",
     "output_type": "stream",
     "text": [
      "['large', 'medium', 'medium', 'medium', 'large', 'large', 'medium', 'large', 'medium', 'medium', 'large', 'medium', 'medium', 'medium', 'large', 'large', 'large', 'large', 'large', 'large', 'large', 'large', 'medium', 'large', 'medium', 'large', 'large', 'large', 'large', 'medium', 'medium', 'large', 'large', 'large', 'medium', 'large', 'large', 'medium', 'medium', 'large', 'large', 'medium', 'medium', 'large', 'large', 'medium', 'large', 'medium', 'large', 'large', 'large', 'large', 'large', 'large', 'large', 'large', 'large', 'medium', 'large', 'large', 'large', 'large', 'large', 'large', 'large', 'large', 'large', 'large', 'large', 'large', 'large', 'large', 'large', 'large', 'large', 'large', 'large', 'large', 'large', 'large', 'large', 'large', 'large', 'large', 'large', 'large', 'large', 'large', 'large', 'large', 'large', 'large', 'large', 'large', 'large', 'large', 'large', 'large', 'large', 'large', 'large', 'large', 'large', 'large', 'large', 'large', 'medium', 'large', 'large', 'large', 'large', 'large', 'large', 'large', 'large', 'large', 'large', 'large', 'large', 'large', 'large', 'large', 'large', 'large', 'large', 'large', 'large', 'large', 'large', 'large', 'large', 'large', 'large', 'large', 'large', 'large', 'large', 'large', 'large', 'large', 'large', 'large', 'large', 'large', 'large', 'large', 'large', 'large', 'large', 'large']\n"
     ]
    }
   ],
   "source": [
    "\n",
    "z = []\n",
    "for i in s_array:\n",
    "    if i < 3:\n",
    "        z.append('small')\n",
    "    elif i < 5:\n",
    "        z.append('medium')\n",
    "    else:\n",
    "        z.append('large')\n",
    "print(z)\n"
   ]
  },
  {
   "cell_type": "code",
   "execution_count": 112,
   "metadata": {},
   "outputs": [
    {
     "name": "stdout",
     "output_type": "stream",
     "text": [
      "True\n"
     ]
    }
   ],
   "source": [
    "print(z == iris_cat_data)"
   ]
  },
  {
   "cell_type": "markdown",
   "metadata": {},
   "source": [
    "#### 41. How to create a new column from existing columns of a numpy array?"
   ]
  },
  {
   "cell_type": "code",
   "execution_count": 52,
   "metadata": {},
   "outputs": [
    {
     "name": "stdout",
     "output_type": "stream",
     "text": [
      "[[ 5.1  3.5  1.4  8.4]\n",
      " [ 4.9  3.   0.   6. ]\n",
      " [ 4.7  3.2  1.3  7.7]\n",
      " ...\n",
      " [ 6.5  3.   5.2 11.2]\n",
      " [ 6.2  3.4  5.4 12.2]\n",
      " [ 5.9  3.   5.1 11.1]]\n"
     ]
    }
   ],
   "source": [
    "\n",
    "iris2D_z1 = (iris2D[:,1] * 2) + iris2D[:,2]\n",
    "iris2D_z = np.column_stack((iris2D, iris2D_z1))\n",
    "print(iris2D_z)\n"
   ]
  },
  {
   "cell_type": "markdown",
   "metadata": {},
   "source": [
    "#### 42. How to do probabilistic sampling in numpy?"
   ]
  },
  {
   "cell_type": "code",
   "execution_count": 113,
   "metadata": {},
   "outputs": [
    {
     "name": "stdout",
     "output_type": "stream",
     "text": [
      "Sampled Item: C\n"
     ]
    }
   ],
   "source": [
    "\n",
    "items = ['A', 'B', 'C', 'D', 'E']\n",
    "probabilities = [0.1, 0.2, 0.3, 0.2, 0.2]                           # Define the probabilities for each item\n",
    "sampled_item = np.random.choice(items, size=1, p=probabilities)     # Perform probabilistic sampling\n",
    "\n",
    "print(f'Sampled Item: {sampled_item[0]}')\n"
   ]
  },
  {
   "cell_type": "markdown",
   "metadata": {},
   "source": [
    "#### 43. How to get the second largest value of an array when grouped by another array"
   ]
  },
  {
   "cell_type": "code",
   "execution_count": 114,
   "metadata": {},
   "outputs": [
    {
     "data": {
      "text/plain": [
       "110.0"
      ]
     },
     "execution_count": 114,
     "metadata": {},
     "output_type": "execute_result"
    }
   ],
   "source": [
    "\n",
    "diabetes_data = np.genfromtxt('diabetes.csv',\n",
    "                              delimiter=',', dtype=object, usecols=[0,1,2,3,4,5,6,7,8], skip_header=1)\n",
    "\n",
    "bloodpressure= diabetes_data[diabetes_data[:, 8]==b'1', [2]].astype('float')\n",
    "np.unique(np.sort(bloodpressure))[-2]\n",
    "\n",
    "\n",
    "\n",
    "# iris = data[data[:, 2]==b'1', [2]].astype('float')\n",
    "# np.unique(np.sort(iris))[-2]\n",
    "\n",
    "# I really try this code, but:\\ \n",
    "# IndexError: too many indices for array: array is 1-dimensional, but 2 were indexed"
   ]
  },
  {
   "cell_type": "markdown",
   "metadata": {},
   "source": [
    "#### 44. How to sort a 2D array by a column"
   ]
  },
  {
   "cell_type": "code",
   "execution_count": 115,
   "metadata": {
    "scrolled": true
   },
   "outputs": [
    {
     "data": {
      "text/plain": [
       "array([ 74, 122, 120, ...,  14,  32,  15])"
      ]
     },
     "execution_count": 115,
     "metadata": {},
     "output_type": "execute_result"
    }
   ],
   "source": [
    "\n",
    "np.argsort(iris2D[:,1])\n"
   ]
  },
  {
   "cell_type": "code",
   "execution_count": 116,
   "metadata": {
    "scrolled": true
   },
   "outputs": [
    {
     "data": {
      "text/plain": [
       "array([[0. , 0. , 4.3],\n",
       "       [7.7, 0. , 6.7],\n",
       "       [6.9, 0. , 0. ],\n",
       "       ...,\n",
       "       [5.8, 4. , 1.2],\n",
       "       [5.2, 4.1, 0. ],\n",
       "       [0. , 4.4, 1.5]])"
      ]
     },
     "execution_count": 116,
     "metadata": {},
     "output_type": "execute_result"
    }
   ],
   "source": [
    "\n",
    "iris2D[iris2D[:,1].argsort()]\n"
   ]
  },
  {
   "cell_type": "markdown",
   "metadata": {},
   "source": [
    "#### 45. How to find the most frequent value in a numpy array?"
   ]
  },
  {
   "cell_type": "code",
   "execution_count": 117,
   "metadata": {},
   "outputs": [
    {
     "data": {
      "text/plain": [
       "5"
      ]
     },
     "execution_count": 117,
     "metadata": {},
     "output_type": "execute_result"
    }
   ],
   "source": [
    "\n",
    "# from 39.:\n",
    "y_list = [1, 2, 3, 5, 5, 4, 5, 3, 0, 1]\n",
    "y = np.array(y_list)\n",
    "y_unique, y_count = np.unique(y, return_counts=True)\n",
    "np.argmax(y_count)\n"
   ]
  },
  {
   "cell_type": "markdown",
   "metadata": {},
   "source": [
    "#### 46. How to find the position of the first occurrence of a value greater than a given value?"
   ]
  },
  {
   "cell_type": "code",
   "execution_count": 118,
   "metadata": {},
   "outputs": [
    {
     "data": {
      "text/plain": [
       "array([50,  0])"
      ]
     },
     "execution_count": 118,
     "metadata": {},
     "output_type": "execute_result"
    }
   ],
   "source": [
    "\n",
    "np.argwhere(iris2D[:].astype(float) > 6.4)[0]\n"
   ]
  },
  {
   "cell_type": "markdown",
   "metadata": {},
   "source": [
    "#### 47. How to replace all values greater than a given value to a given cutoff?"
   ]
  },
  {
   "cell_type": "code",
   "execution_count": 120,
   "metadata": {},
   "outputs": [
    {
     "name": "stdout",
     "output_type": "stream",
     "text": [
      "Modified Data: [[ 1  2  3 64 64  4 64  3  0  1]]\n"
     ]
    }
   ],
   "source": [
    "\n",
    "y_array = np.array([y_list], dtype=int)\n",
    "a = 4\n",
    "cutoff = 4**3                                       # You can set this to any value you want\n",
    "y_array[y_array > a] = cutoff                       # Replace values greater than the threshold with the cutoff value\n",
    "\n",
    "print(f'Modified Data: {y_array}')\n"
   ]
  },
  {
   "cell_type": "markdown",
   "metadata": {},
   "source": [
    "#### 48. How to get the positions of top n values from a numpy array?\n",
    "numpy.argsort to get the indices that would sort the array in descending order\n"
   ]
  },
  {
   "cell_type": "code",
   "execution_count": 121,
   "metadata": {},
   "outputs": [
    {
     "name": "stdout",
     "output_type": "stream",
     "text": [
      "Data: [ 1  2  3  5  6  4  8 11 10  0]\n",
      "Positions of the top 3 values: [7 8 6]\n"
     ]
    }
   ],
   "source": [
    "\n",
    "z_list = [1, 2, 3, 5, 6, 4, 8, 11, 10, 0]\n",
    "z_array = np.array(z_list)\n",
    "n = 3                                                 # top n\n",
    "\n",
    "sorted_indices = np.argsort(z_array)[::-1]\n",
    "top_n_positions = sorted_indices[:n]                  # Select the first n indices to get the positions of the top n values\n",
    "\n",
    "print(f'Data: {z_array}')\n",
    "print(f'Positions of the top {n} values: {top_n_positions}')\n"
   ]
  },
  {
   "cell_type": "markdown",
   "metadata": {},
   "source": [
    "#### 49. How to compute the row wise counts of all possible values in an array?"
   ]
  },
  {
   "cell_type": "code",
   "execution_count": 123,
   "metadata": {},
   "outputs": [
    {
     "name": "stdout",
     "output_type": "stream",
     "text": [
      "Original: \n",
      "[[1 2 3]\n",
      " [1 3 3]\n",
      " [2 1 1]]\n",
      "\n",
      " Rows wise counts: \n",
      "[[1 1 1]\n",
      " [1 0 2]\n",
      " [2 1 0]]\n"
     ]
    }
   ],
   "source": [
    "\n",
    "aa = [1, 2, 3]\n",
    "bb = [1, 3, 3]\n",
    "cc = [2, 1, 1]\n",
    "\n",
    "dd = np.array([aa, bb, cc])\n",
    "\n",
    "unique_values = np.unique(dd)                   # Get the unique values in the entire array\n",
    "\n",
    "\n",
    "row_wise_counts = []\n",
    "# Iterate through the rows\n",
    "for row in dd:\n",
    "    # Use a list comprehension to count the occurrences of each unique value in the row\n",
    "    counts = [np.count_nonzero(row == value) for value in unique_values]\n",
    "    row_wise_counts.append(counts)\n",
    "\n",
    "row_wise_counts = np.array(row_wise_counts)\n",
    "\n",
    "print(f'Original: \\n{dd}')\n",
    "print(f'\\n Rows wise counts: \\n{row_wise_counts}')"
   ]
  },
  {
   "cell_type": "markdown",
   "metadata": {},
   "source": [
    "#### 50. How to convert an array_of_arrays into a flat linear 1d array?"
   ]
  },
  {
   "cell_type": "code",
   "execution_count": 125,
   "metadata": {},
   "outputs": [
    {
     "name": "stdout",
     "output_type": "stream",
     "text": [
      "First choice: \n",
      "[1 2 3 1 3 3 2 1 1]\n",
      "\n",
      "Second choice: \n",
      "[1 1 1 1 0 2 2 1 0]\n"
     ]
    }
   ],
   "source": [
    "# array_of_arrays = np.array([[1, 2, 3], [4, 5, 6], [7, 8, 9]])\n",
    "\n",
    "# Use numpy.ravel() to flatten the array\n",
    "flat_array = dd.ravel()\n",
    "print(f'First choice: \\n{flat_array}')\n",
    "\n",
    "flat_array1 = np.concatenate(row_wise_counts)\n",
    "print(f'\\nSecond choice: \\n{flat_array1}')"
   ]
  }
 ],
 "metadata": {
  "kernelspec": {
   "display_name": "Python 3",
   "language": "python",
   "name": "python3"
  },
  "language_info": {
   "codemirror_mode": {
    "name": "ipython",
    "version": 3
   },
   "file_extension": ".py",
   "mimetype": "text/x-python",
   "name": "python",
   "nbconvert_exporter": "python",
   "pygments_lexer": "ipython3",
   "version": "3.10.13"
  }
 },
 "nbformat": 4,
 "nbformat_minor": 4
}
